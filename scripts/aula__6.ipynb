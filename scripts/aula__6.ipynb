{
 "cells": [
  {
   "cell_type": "markdown",
   "source": [
    "VotingClassifier Test"
   ],
   "metadata": {
    "collapsed": false,
    "pycharm": {
     "name": "#%% md\n"
    }
   }
  },
  {
   "cell_type": "code",
   "execution_count": 17,
   "outputs": [],
   "source": [
    "import sys\n",
    "sys.path.insert(0, r'C:\\Users\\HP-PC\\PycharmProjects\\pythonProject2\\si\\src\\si')\n",
    "# print(sys.path)"
   ],
   "metadata": {
    "collapsed": false,
    "pycharm": {
     "name": "#%%\n"
    }
   }
  },
  {
   "cell_type": "code",
   "execution_count": 18,
   "outputs": [],
   "source": [
    "from si.src.si.ensemble.Voting_Classifier import VotingClassifier\n",
    "from si.src.si.ensemble.stacking_classifier import StackingClassifier\n",
    "from si.src.si.io.CSV import read_csv\n",
    "from sklearn.preprocessing import StandardScaler\n",
    "from si.src.si.model_selection.split import train_test_split\n",
    "from si.src.si.linear_model.logistic_regression import LogisticRegression\n",
    "from si.src.si.neighbors.knn_classifier import KNNClassifier"
   ],
   "metadata": {
    "collapsed": false,
    "pycharm": {
     "name": "#%%\n"
    }
   }
  },
  {
   "cell_type": "code",
   "execution_count": 19,
   "outputs": [
    {
     "data": {
      "text/plain": "            0         1         2         3         4         5         6  \\\n0.0  0.208853 -0.699128 -0.742423  0.066751 -0.550074 -0.685447 -1.000036   \n0.0 -0.857825 -0.699128 -0.742423 -0.633883 -0.098366 -0.685447 -0.589915   \n0.0 -0.857825 -0.699128 -0.742423 -0.633883 -0.550074 -0.685447 -0.179795   \n1.0  1.631091  0.611796  1.613083 -0.633883 -0.550074 -0.132335 -0.589915   \n0.0 -0.502266 -0.699128 -0.742423 -0.633883 -0.550074 -0.685447 -0.179795   \n..        ...       ...       ...       ...       ...       ...       ...   \n0.0 -1.213385 -0.699128 -0.742423 -0.633883  0.353342 -0.132335 -1.000036   \n0.0  0.208853 -0.043666 -0.742423 -0.283566 -0.550074 -0.685447 -0.589915   \n0.0  0.208853 -0.371397 -0.405922 -0.283566 -0.550074 -0.685447 -1.000036   \n0.0 -0.857825 -0.043666 -0.405922 -0.283566 -0.550074 -0.408891 -0.179795   \n1.0  0.919972  0.939527  0.940081  0.066751 -0.550074  1.803558  1.460687   \n\n            7         8  \n0.0 -0.611326 -0.344187  \n0.0 -0.611326 -0.344187  \n0.0 -0.611326 -0.344187  \n1.0 -0.611326  1.988266  \n0.0 -0.611326 -0.344187  \n..        ...       ...  \n0.0 -0.611326 -0.344187  \n0.0 -0.611326 -0.344187  \n0.0 -0.611326  0.238926  \n0.0 -0.611326 -0.344187  \n1.0 -0.611326 -0.344187  \n\n[698 rows x 9 columns]",
      "text/html": "<div>\n<style scoped>\n    .dataframe tbody tr th:only-of-type {\n        vertical-align: middle;\n    }\n\n    .dataframe tbody tr th {\n        vertical-align: top;\n    }\n\n    .dataframe thead th {\n        text-align: right;\n    }\n</style>\n<table border=\"1\" class=\"dataframe\">\n  <thead>\n    <tr style=\"text-align: right;\">\n      <th></th>\n      <th>0</th>\n      <th>1</th>\n      <th>2</th>\n      <th>3</th>\n      <th>4</th>\n      <th>5</th>\n      <th>6</th>\n      <th>7</th>\n      <th>8</th>\n    </tr>\n  </thead>\n  <tbody>\n    <tr>\n      <th>0.0</th>\n      <td>0.208853</td>\n      <td>-0.699128</td>\n      <td>-0.742423</td>\n      <td>0.066751</td>\n      <td>-0.550074</td>\n      <td>-0.685447</td>\n      <td>-1.000036</td>\n      <td>-0.611326</td>\n      <td>-0.344187</td>\n    </tr>\n    <tr>\n      <th>0.0</th>\n      <td>-0.857825</td>\n      <td>-0.699128</td>\n      <td>-0.742423</td>\n      <td>-0.633883</td>\n      <td>-0.098366</td>\n      <td>-0.685447</td>\n      <td>-0.589915</td>\n      <td>-0.611326</td>\n      <td>-0.344187</td>\n    </tr>\n    <tr>\n      <th>0.0</th>\n      <td>-0.857825</td>\n      <td>-0.699128</td>\n      <td>-0.742423</td>\n      <td>-0.633883</td>\n      <td>-0.550074</td>\n      <td>-0.685447</td>\n      <td>-0.179795</td>\n      <td>-0.611326</td>\n      <td>-0.344187</td>\n    </tr>\n    <tr>\n      <th>1.0</th>\n      <td>1.631091</td>\n      <td>0.611796</td>\n      <td>1.613083</td>\n      <td>-0.633883</td>\n      <td>-0.550074</td>\n      <td>-0.132335</td>\n      <td>-0.589915</td>\n      <td>-0.611326</td>\n      <td>1.988266</td>\n    </tr>\n    <tr>\n      <th>0.0</th>\n      <td>-0.502266</td>\n      <td>-0.699128</td>\n      <td>-0.742423</td>\n      <td>-0.633883</td>\n      <td>-0.550074</td>\n      <td>-0.685447</td>\n      <td>-0.179795</td>\n      <td>-0.611326</td>\n      <td>-0.344187</td>\n    </tr>\n    <tr>\n      <th>...</th>\n      <td>...</td>\n      <td>...</td>\n      <td>...</td>\n      <td>...</td>\n      <td>...</td>\n      <td>...</td>\n      <td>...</td>\n      <td>...</td>\n      <td>...</td>\n    </tr>\n    <tr>\n      <th>0.0</th>\n      <td>-1.213385</td>\n      <td>-0.699128</td>\n      <td>-0.742423</td>\n      <td>-0.633883</td>\n      <td>0.353342</td>\n      <td>-0.132335</td>\n      <td>-1.000036</td>\n      <td>-0.611326</td>\n      <td>-0.344187</td>\n    </tr>\n    <tr>\n      <th>0.0</th>\n      <td>0.208853</td>\n      <td>-0.043666</td>\n      <td>-0.742423</td>\n      <td>-0.283566</td>\n      <td>-0.550074</td>\n      <td>-0.685447</td>\n      <td>-0.589915</td>\n      <td>-0.611326</td>\n      <td>-0.344187</td>\n    </tr>\n    <tr>\n      <th>0.0</th>\n      <td>0.208853</td>\n      <td>-0.371397</td>\n      <td>-0.405922</td>\n      <td>-0.283566</td>\n      <td>-0.550074</td>\n      <td>-0.685447</td>\n      <td>-1.000036</td>\n      <td>-0.611326</td>\n      <td>0.238926</td>\n    </tr>\n    <tr>\n      <th>0.0</th>\n      <td>-0.857825</td>\n      <td>-0.043666</td>\n      <td>-0.405922</td>\n      <td>-0.283566</td>\n      <td>-0.550074</td>\n      <td>-0.408891</td>\n      <td>-0.179795</td>\n      <td>-0.611326</td>\n      <td>-0.344187</td>\n    </tr>\n    <tr>\n      <th>1.0</th>\n      <td>0.919972</td>\n      <td>0.939527</td>\n      <td>0.940081</td>\n      <td>0.066751</td>\n      <td>-0.550074</td>\n      <td>1.803558</td>\n      <td>1.460687</td>\n      <td>-0.611326</td>\n      <td>-0.344187</td>\n    </tr>\n  </tbody>\n</table>\n<p>698 rows × 9 columns</p>\n</div>"
     },
     "execution_count": 19,
     "metadata": {},
     "output_type": "execute_result"
    }
   ],
   "source": [
    "file_breast = read_csv(r\"C:\\Users\\HP-PC\\PycharmProjects\\pythonProject2\\si\\datasets\\breast-bin.csv\",label=True)\n",
    "breast_data.print_dataframe()"
   ],
   "metadata": {
    "collapsed": false,
    "pycharm": {
     "name": "#%%\n"
    }
   }
  },
  {
   "cell_type": "code",
   "execution_count": 20,
   "outputs": [
    {
     "name": "stdout",
     "output_type": "stream",
     "text": [
      "[[ 0.20885295 -0.69912815 -0.74242297 ... -1.0000359  -0.61132565\n",
      "  -0.34418721]\n",
      " [-0.8578253  -0.69912815 -0.74242297 ... -0.58991542 -0.61132565\n",
      "  -0.34418721]\n",
      " [-0.8578253  -0.69912815 -0.74242297 ... -0.17979494 -0.61132565\n",
      "  -0.34418721]\n",
      " ...\n",
      " [ 0.20885295 -0.37139715 -0.40592217 ... -1.0000359  -0.61132565\n",
      "   0.23892607]\n",
      " [-0.8578253  -0.04366616 -0.40592217 ... -0.17979494 -0.61132565\n",
      "  -0.34418721]\n",
      " [ 0.91997179  0.93952681  0.94008103 ...  1.46068699 -0.61132565\n",
      "  -0.34418721]]\n",
      "[0. 0. 0. 1. 0. 0. 0. 0. 1. 0. 0. 0. 0. 0. 0. 0. 0. 0. 1. 0. 0. 0. 0. 0.\n",
      " 1. 1. 1. 1. 1. 1. 0. 1. 1. 0. 1. 0. 1. 0. 0. 1. 1. 0. 0. 0. 0. 1. 1. 0.\n",
      " 0. 0. 1. 0. 0. 0. 0. 0. 0. 0. 0. 1. 1. 0. 0. 0. 0. 0. 0. 0. 0. 0. 1. 1.\n",
      " 0. 0. 0. 0. 0. 0. 1. 0. 0. 0. 1. 1. 1. 0. 0. 1. 0. 1. 0. 1. 0. 0. 1. 0.\n",
      " 0. 0. 0. 0. 0. 0. 1. 1. 1. 1. 0. 0. 0. 0. 0. 1. 0. 0. 0. 1. 1. 0. 0. 0.\n",
      " 0. 0. 0. 0. 0. 0. 0. 0. 0. 0. 0. 0. 1. 1. 0. 1. 1. 0. 1. 1. 0. 0. 0. 0.\n",
      " 0. 0. 1. 0. 1. 0. 0. 1. 0. 0. 0. 0. 0. 0. 0. 0. 0. 0. 0. 1. 0. 1. 0. 0.\n",
      " 0. 0. 0. 1. 1. 1. 0. 0. 0. 1. 0. 0. 0. 0. 1. 1. 0. 0. 0. 0. 1. 0. 0. 0.\n",
      " 0. 0. 0. 1. 1. 0. 1. 1. 0. 1. 0. 0. 0. 0. 0. 0. 1. 0. 1. 0. 0. 0. 0. 0.\n",
      " 0. 0. 0. 1. 1. 0. 1. 0. 0. 0. 0. 0. 1. 1. 0. 0. 1. 0. 1. 1. 0. 1. 1. 0.\n",
      " 0. 1. 1. 1. 1. 0. 1. 1. 0. 0. 0. 0. 1. 0. 1. 1. 1. 1. 0. 1. 1. 0. 0. 0.\n",
      " 0. 1. 0. 0. 0. 0. 0. 0. 0. 1. 1. 1. 0. 1. 0. 0. 1. 1. 1. 1. 1. 0. 0. 0.\n",
      " 0. 0. 1. 0. 0. 0. 0. 0. 1. 0. 1. 1. 0. 1. 0. 1. 0. 0. 0. 0. 1. 1. 0. 1.\n",
      " 0. 0. 0. 0. 1. 0. 1. 0. 0. 0. 0. 1. 1. 0. 0. 0. 1. 0. 0. 0. 0. 1. 0. 1.\n",
      " 0. 1. 1. 0. 0. 0. 0. 0. 0. 0. 1. 0. 0. 0. 0. 0. 0. 0. 0. 0. 1. 0. 0. 0.\n",
      " 0. 0. 0. 0. 1. 0. 1. 1. 1. 1. 0. 0. 0. 0. 1. 0. 0. 0. 0. 0. 0. 0. 1. 1.\n",
      " 0. 0. 0. 0. 0. 0. 1. 0. 0. 1. 0. 0. 0. 0. 0. 1. 0. 1. 0. 1. 0. 0. 0. 0.\n",
      " 1. 1. 1. 1. 0. 0. 1. 0. 1. 0. 0. 1. 0. 1. 1. 1. 0. 1. 0. 0. 1. 1. 1. 0.\n",
      " 0. 0. 0. 0. 0. 1. 0. 1. 1. 0. 1. 0. 1. 1. 0. 1. 1. 0. 0. 1. 0. 1. 0. 0.\n",
      " 0. 0. 1. 0. 0. 1. 0. 0. 1. 0. 0. 0. 0. 0. 1. 1. 1. 1. 0. 0. 0. 0. 1. 1.\n",
      " 0. 0. 0. 0. 1. 0. 0. 0. 0. 1. 1. 0. 0. 0. 0. 1. 1. 0. 0. 1. 0. 1. 0. 1.\n",
      " 0. 0. 0. 1. 0. 0. 1. 1. 0. 1. 0. 0. 1. 1. 0. 0. 1. 1. 1. 1. 0. 0. 1. 0.\n",
      " 1. 0. 0. 1. 0. 0. 0. 1. 1. 1. 0. 0. 1. 0. 0. 0. 0. 1. 0. 0. 1. 1. 1. 1.\n",
      " 0. 1. 0. 0. 0. 0. 1. 0. 0. 0. 0. 0. 0. 0. 0. 1. 0. 0. 1. 0. 0. 0. 0. 0.\n",
      " 0. 1. 0. 0. 0. 0. 0. 0. 0. 1. 1. 0. 1. 0. 0. 1. 1. 1. 1. 1. 0. 0. 0. 0.\n",
      " 0. 0. 0. 1. 1. 0. 1. 0. 1. 0. 0. 1. 0. 0. 0. 1. 0. 0. 1. 1. 0. 0. 1. 0.\n",
      " 1. 1. 1. 0. 0. 0. 0. 0. 0. 0. 1. 1. 1. 1. 1. 0. 1. 0. 0. 0. 1. 0. 0. 1.\n",
      " 0. 0. 0. 0. 1. 0. 1. 0. 1. 1. 0. 0. 1. 1. 0. 1. 0. 1. 0. 0. 0. 0. 0. 0.\n",
      " 1. 1. 0. 0. 0. 1. 0. 1. 0. 1. 0. 0. 0. 0. 0. 0. 0. 1. 0. 1. 0. 0. 0. 0.\n",
      " 0. 1.]\n"
     ]
    }
   ],
   "source": [
    "dataset = breast_data\n",
    "dataset.X = StandardScaler().fit_transform(dataset.X)\n",
    "train_breast, test_breast = train_test_split(dataset)"
   ],
   "metadata": {
    "collapsed": false,
    "pycharm": {
     "name": "#%%\n"
    }
   }
  },
  {
   "cell_type": "code",
   "execution_count": 21,
   "outputs": [],
   "source": [
    "logistic_model = LogisticRegression(max_iter=3000)\n",
    "knn = KNNClassifier(k=3)\n",
    "model = KNNClassifier(k=2)"
   ],
   "metadata": {
    "collapsed": false,
    "pycharm": {
     "name": "#%%\n"
    }
   }
  },
  {
   "cell_type": "code",
   "execution_count": 22,
   "outputs": [
    {
     "data": {
      "text/plain": "array([1., 1., 0., 0., 0., 0., 1., 0., 0., 1., 0., 1., 1., 1., 0., 0., 0.,\n       0., 1., 0., 0., 1., 0., 1., 1., 0., 0., 0., 0., 0., 1., 0., 1., 0.,\n       0., 0., 0., 0., 1., 1., 0., 0., 1., 0., 0., 1., 1., 0., 0., 1., 1.,\n       0., 1., 0., 0., 1., 0., 0., 1., 0., 1., 1., 1., 0., 0., 1., 0., 0.,\n       1., 0., 0., 0., 0., 0., 1., 0., 0., 1., 0., 1., 0., 1., 0., 0., 0.,\n       1., 1., 0., 0., 0., 0., 1., 0., 1., 1., 0., 0., 0., 0., 1., 1., 0.,\n       1., 1., 0., 1., 0., 0., 0., 1., 1., 1., 0., 0., 0., 1., 0., 1., 1.,\n       0., 0., 0., 1., 0., 0., 0., 0., 0., 0., 0., 0., 1., 0., 0., 0., 1.,\n       0., 0., 1.])"
     },
     "execution_count": 22,
     "metadata": {},
     "output_type": "execute_result"
    }
   ],
   "source": [
    "voting = VotingClassifier([logistic_model,knn])\n",
    "voting.fit(train_breast)\n",
    "voting.predict(test_breast)"
   ],
   "metadata": {
    "collapsed": false,
    "pycharm": {
     "name": "#%%\n"
    }
   }
  },
  {
   "cell_type": "code",
   "execution_count": 23,
   "outputs": [
    {
     "data": {
      "text/plain": "0.9928057553956835"
     },
     "execution_count": 23,
     "metadata": {},
     "output_type": "execute_result"
    }
   ],
   "source": [
    "voting.score(test_breast)"
   ],
   "metadata": {
    "collapsed": false,
    "pycharm": {
     "name": "#%%\n"
    }
   }
  },
  {
   "cell_type": "code",
   "execution_count": 24,
   "outputs": [
    {
     "name": "stdout",
     "output_type": "stream",
     "text": [
      "[1. 1. 0. 0. 0. 0. 1. 0. 0. 1. 0. 1. 1. 1. 0. 0. 0. 0. 1. 0. 0. 1. 0. 1.\n",
      " 1. 1. 0. 0. 0. 0. 1. 0. 1. 0. 0. 0. 0. 0. 1. 1. 0. 0. 1. 0. 0. 1. 1. 0.\n",
      " 0. 1. 1. 0. 1. 0. 0. 1. 0. 0. 1. 0. 1. 1. 1. 0. 0. 1. 0. 0. 1. 0. 0. 0.\n",
      " 0. 0. 1. 0. 0. 1. 0. 1. 0. 1. 0. 0. 0. 1. 1. 0. 0. 0. 0. 1. 0. 1. 1. 0.\n",
      " 0. 0. 0. 1. 1. 0. 1. 1. 0. 1. 0. 0. 0. 1. 1. 1. 0. 0. 0. 1. 0. 1. 1. 0.\n",
      " 0. 0. 1. 0. 0. 0. 0. 0. 0. 0. 0. 1. 0. 0. 0. 1. 0. 0. 1.]\n"
     ]
    }
   ],
   "source": [
    "first_model_predictions=voting.models[0].predict(test_breast)\n",
    "print(first_model_predictions)"
   ],
   "metadata": {
    "collapsed": false,
    "pycharm": {
     "name": "#%%\n"
    }
   }
  },
  {
   "cell_type": "code",
   "execution_count": 25,
   "outputs": [
    {
     "name": "stdout",
     "output_type": "stream",
     "text": [
      "[1. 1. 0. 0. 0. 0. 1. 0. 0. 1. 0. 1. 1. 1. 0. 0. 0. 0. 1. 0. 0. 1. 0. 1.\n",
      " 1. 0. 0. 0. 0. 0. 1. 0. 1. 0. 0. 0. 0. 0. 1. 1. 0. 0. 1. 0. 0. 1. 1. 0.\n",
      " 0. 1. 1. 0. 1. 0. 0. 1. 0. 0. 1. 0. 1. 1. 1. 0. 0. 1. 0. 0. 1. 0. 0. 0.\n",
      " 0. 0. 1. 0. 0. 1. 0. 1. 0. 1. 0. 0. 0. 1. 1. 0. 0. 0. 0. 1. 0. 1. 1. 0.\n",
      " 0. 0. 0. 1. 1. 0. 1. 1. 0. 1. 0. 0. 0. 1. 1. 1. 0. 0. 0. 1. 0. 1. 1. 0.\n",
      " 0. 0. 1. 0. 0. 0. 0. 0. 0. 0. 0. 1. 0. 0. 0. 1. 0. 0. 1.]\n"
     ]
    }
   ],
   "source": [
    "knn_model_predictions = voting.models[1].predict(test_breast)\n",
    "print(knn_model_predictions)"
   ],
   "metadata": {
    "collapsed": false,
    "pycharm": {
     "name": "#%%\n"
    }
   }
  },
  {
   "cell_type": "markdown",
   "source": [
    "StackingClassifier Test"
   ],
   "metadata": {
    "collapsed": false,
    "pycharm": {
     "name": "#%% md\n"
    }
   }
  },
  {
   "cell_type": "code",
   "execution_count": 29,
   "outputs": [
    {
     "data": {
      "text/plain": "array([1., 1., 0., 0., 0., 0., 1., 0., 0., 1., 0., 1., 1., 1., 0., 0., 0.,\n       0., 1., 0., 0., 1., 0., 1., 1., 0., 0., 0., 0., 0., 1., 0., 1., 0.,\n       0., 0., 0., 0., 1., 1., 0., 0., 1., 0., 0., 1., 1., 0., 0., 1., 1.,\n       0., 0., 0., 0., 1., 0., 0., 1., 0., 1., 1., 1., 0., 0., 1., 0., 0.,\n       1., 0., 0., 0., 0., 0., 0., 0., 0., 1., 0., 1., 0., 1., 0., 0., 0.,\n       1., 1., 0., 0., 0., 0., 1., 0., 1., 1., 0., 0., 0., 0., 1., 1., 0.,\n       1., 0., 0., 1., 0., 0., 0., 1., 1., 1., 0., 0., 0., 1., 0., 1., 1.,\n       0., 0., 0., 0., 0., 0., 0., 0., 0., 0., 0., 0., 1., 0., 0., 0., 1.,\n       0., 0., 1.])"
     },
     "execution_count": 29,
     "metadata": {},
     "output_type": "execute_result"
    }
   ],
   "source": [
    "stacking = StackingClassifier([logistic_model, knn],model)\n",
    "stacking.fit(train_breast)\n",
    "model_prediction = stacking.predict(test_breast)\n",
    "model_prediction"
   ],
   "metadata": {
    "collapsed": false,
    "pycharm": {
     "name": "#%%\n"
    }
   }
  },
  {
   "cell_type": "code",
   "execution_count": 30,
   "outputs": [
    {
     "data": {
      "text/plain": "0.9640287769784173"
     },
     "execution_count": 30,
     "metadata": {},
     "output_type": "execute_result"
    }
   ],
   "source": [
    "stacking.score(test_breast)"
   ],
   "metadata": {
    "collapsed": false,
    "pycharm": {
     "name": "#%%\n"
    }
   }
  },
  {
   "cell_type": "code",
   "execution_count": null,
   "outputs": [],
   "source": [],
   "metadata": {
    "collapsed": false,
    "pycharm": {
     "name": "#%%\n"
    }
   }
  }
 ],
 "metadata": {
  "kernelspec": {
   "display_name": "Python 3",
   "language": "python",
   "name": "python3"
  },
  "language_info": {
   "codemirror_mode": {
    "name": "ipython",
    "version": 2
   },
   "file_extension": ".py",
   "mimetype": "text/x-python",
   "name": "python",
   "nbconvert_exporter": "python",
   "pygments_lexer": "ipython2",
   "version": "2.7.6"
  }
 },
 "nbformat": 4,
 "nbformat_minor": 0
}