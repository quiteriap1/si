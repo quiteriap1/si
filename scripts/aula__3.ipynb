{
 "cells": [
  {
   "cell_type": "markdown",
   "source": [
    "Exercise 3: Implement PCA"
   ],
   "metadata": {
    "collapsed": false,
    "pycharm": {
     "name": "#%% md\n"
    }
   }
  },
  {
   "cell_type": "markdown",
   "source": [
    "Test the implementation of the PCA object using the iris.csv dataset (classification problem)"
   ],
   "metadata": {
    "collapsed": false,
    "pycharm": {
     "name": "#%% md\n"
    }
   }
  },
  {
   "cell_type": "code",
   "execution_count": 7,
   "outputs": [],
   "source": [
    "import sys\n",
    "sys.path.insert(0, r'C:\\Users\\HP-PC\\PycharmProjects\\pythonProject2\\si\\src\\si')\n",
    "# print(sys.path)"
   ],
   "metadata": {
    "collapsed": false,
    "pycharm": {
     "name": "#%%\n"
    }
   }
  },
  {
   "cell_type": "code",
   "execution_count": 8,
   "outputs": [],
   "source": [
    "from si.src.si.decomposition.pca import PCA\n",
    "from si.src.si.io.CSV import read_csv"
   ],
   "metadata": {
    "collapsed": false,
    "pycharm": {
     "name": "#%%\n"
    }
   }
  },
  {
   "cell_type": "code",
   "execution_count": 10,
   "outputs": [
    {
     "data": {
      "text/plain": "array([[ 0.99913105,  0.01365776, -0.00403356,  0.03585025,  0.01578304],\n       [-0.04074184,  0.49354461, -0.01993258,  0.82298382,  0.27758629],\n       [-0.00700814, -0.55163799, -0.77921258,  0.29128532,  0.06022492]])"
     },
     "execution_count": 10,
     "metadata": {},
     "output_type": "execute_result"
    }
   ],
   "source": [
    "file_iris = r\"C:\\Users\\HP-PC\\PycharmProjects\\pythonProject2\\si\\datasets\\iris.csv\"\n",
    "data = read_csv(filename=file_iris,label=True, features=True)\n",
    "test = PCA(n_components=3)\n",
    "test.fit_transform(data)\n",
    "test.components"
   ],
   "metadata": {
    "collapsed": false,
    "pycharm": {
     "name": "#%%\n"
    }
   }
  },
  {
   "cell_type": "code",
   "execution_count": 5,
   "outputs": [
    {
     "data": {
      "text/plain": "array([1.89078294e+03, 9.74328533e-01, 2.24055810e-01])"
     },
     "execution_count": 5,
     "metadata": {},
     "output_type": "execute_result"
    }
   ],
   "source": [
    "test.explained_variance"
   ],
   "metadata": {
    "collapsed": false,
    "pycharm": {
     "name": "#%%\n"
    }
   }
  },
  {
   "cell_type": "code",
   "execution_count": 6,
   "outputs": [
    {
     "data": {
      "text/plain": "array([75.5       ,  5.84333333,  3.05733333,  3.758     ,  1.19933333])"
     },
     "execution_count": 6,
     "metadata": {},
     "output_type": "execute_result"
    }
   ],
   "source": [
    "test.mean"
   ],
   "metadata": {
    "collapsed": false,
    "pycharm": {
     "name": "#%%\n"
    }
   }
  }
 ],
 "metadata": {
  "kernelspec": {
   "display_name": "Python 3",
   "language": "python",
   "name": "python3"
  },
  "language_info": {
   "codemirror_mode": {
    "name": "ipython",
    "version": 2
   },
   "file_extension": ".py",
   "mimetype": "text/x-python",
   "name": "python",
   "nbconvert_exporter": "python",
   "pygments_lexer": "ipython2",
   "version": "2.7.6"
  }
 },
 "nbformat": 4,
 "nbformat_minor": 0
}